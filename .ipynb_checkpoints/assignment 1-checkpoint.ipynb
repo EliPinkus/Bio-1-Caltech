{
 "cells": [
  {
   "cell_type": "markdown",
   "metadata": {},
   "source": [
    "Num floors in Milikan $\\approx10$\n",
    "\n",
    "Num shevles per floor $\\approx10$\n",
    "\n",
    "Num books per shelf $\\approx10^2$\n",
    "\n",
    "Num pages per book $\\approx10^2$\n",
    "\n",
    "Num words per page $\\approx10^2$\n",
    "\n",
    "Num letter per word $\\approx1$\n",
    "\n",
    "Num bits per letter $\\approx8$\n",
    "\n",
    "$10\\cdot10\\cdot10^2\\cdot10^2\\cdot10^2\\cdot1\\cdot8=8\\times10^9$ bytes $=8$ Gigabytes"
   ]
  },
  {
   "cell_type": "code",
   "execution_count": null,
   "metadata": {
    "collapsed": true
   },
   "outputs": [],
   "source": []
  }
 ],
 "metadata": {
  "kernelspec": {
   "display_name": "Python 3",
   "language": "python",
   "name": "python3"
  },
  "language_info": {
   "codemirror_mode": {
    "name": "ipython",
    "version": 3
   },
   "file_extension": ".py",
   "mimetype": "text/x-python",
   "name": "python",
   "nbconvert_exporter": "python",
   "pygments_lexer": "ipython3",
   "version": "3.6.0"
  }
 },
 "nbformat": 4,
 "nbformat_minor": 2
}

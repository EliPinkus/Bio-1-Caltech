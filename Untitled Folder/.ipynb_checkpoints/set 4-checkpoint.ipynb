{
 "cells": [
  {
   "cell_type": "markdown",
   "metadata": {},
   "source": [
    "See the above punet square:\n",
    "\n",
    "$f_r=1/2\\cdot1/2=1/4$\n",
    "\n",
    "$f_w=1/2\\cdot1/2=1/4$\n",
    "\n",
    "$f_o=1/2$"
   ]
  },
  {
   "cell_type": "markdown",
   "metadata": {},
   "source": [
    "$$f_r=\\frac{2\\cdot N_{red}+N_{orange}}{2 N_{red}+2N_{orange}+2N_{white}}$$\n",
    "\n",
    "$$f_w=\\frac{2\\cdot N_{white}+N_{orange}}{2 N_{red}+2N_{orange}+2N_{white}}$$"
   ]
  },
  {
   "cell_type": "code",
   "execution_count": 73,
   "metadata": {
    "collapsed": false
   },
   "outputs": [],
   "source": [
    "import numpy as np\n",
    "\n",
    "import matplotlib.pyplot as plt\n",
    "import seaborn as sns\n",
    "sns.set_context('notebook')\n",
    "%matplotlib inline\n",
    "\n",
    "\n",
    "# Define the initial conditions\n",
    "pop_size = 16\n",
    "n_alleles = 2 * pop_size\n",
    "n_gen = 19\n",
    "freq_r = 0.5\n",
    "n_simulations = 107\n",
    "frequency = np.zeros((n_simulations, n_gen+1))\n",
    "\n",
    "\n",
    "for i in range(n_simulations):\n",
    "    frequency[i, 0] = 0.5\n",
    "    for j in range(1, n_gen+1):\n",
    "        flips = np.random.rand(n_alleles)\n",
    "        \n",
    "        num_A = np.sum(flips < frequency[i, j-1])\n",
    "        \n",
    "        new_freq = num_A / n_alleles\n",
    "        \n",
    "        frequency[i, j] = new_freq\n"
   ]
  },
  {
   "cell_type": "code",
   "execution_count": null,
   "metadata": {
    "collapsed": false
   },
   "outputs": [],
   "source": [
    "plt.hist(frequency[:, 19], bins=n_simulations, normed=True, label='generation=19')\n",
    "plt.hist(frequency[:, 10], bins=n_simulations, normed=True, label='generation=10')\n",
    "plt.hist(frequency[:, 1], bins=n_simulations, normed=True, label='generation=1')\n",
    "plt.hist(frequency[:, 0], bins=n_simulations, normed=True, label='generation=0')\n",
    "plt.xlabel('frequency')\n",
    "plt.ylabel('Jars')\n",
    "plt.legend()\n",
    "plt.title('jars at a given frequency')\n",
    "\n",
    "# Set the xlimits to cover the entire range. \n",
    "plt.xlim([0, 1])"
   ]
  },
  {
   "cell_type": "code",
   "execution_count": null,
   "metadata": {
    "collapsed": false
   },
   "outputs": [],
   "source": [
    "import numpy as np\n",
    "\n",
    "import matplotlib.pyplot as plt\n",
    "import seaborn as sns\n",
    "sns.set_context('notebook')\n",
    "%matplotlib inline\n",
    "\n",
    "def getAverageFinish(pop):\n",
    "    # Define the initial conditions\n",
    "    pop_size = pop\n",
    "    n_alleles = 2 * pop_size\n",
    "    n_gen = 1000\n",
    "    freq_r = 0.5\n",
    "    n_simulations = 107\n",
    "    frequency = np.zeros((n_simulations, n_gen+1))\n",
    "    \n",
    "    zero_pts = []\n",
    "\n",
    "    for i in range(n_simulations):\n",
    "        frequency[i, 0] = 0.5\n",
    "        for j in range(1, n_gen+1):\n",
    "            flips = np.random.rand(n_alleles)\n",
    "\n",
    "            num_A = np.sum(flips < frequency[i, j-1])\n",
    "\n",
    "            new_freq = num_A / n_alleles\n",
    "\n",
    "            frequency[i, j] = new_freq\n",
    "\n",
    "            if new_freq == 0 or new_freq == 1:\n",
    "                zero_pts.append(float(j))\n",
    "                break\n",
    "\n",
    "    return float(np.average(zero_pts))\n",
    "\n",
    "getAverageFinish(64)"
   ]
  },
  {
   "cell_type": "code",
   "execution_count": null,
   "metadata": {
    "collapsed": false
   },
   "outputs": [],
   "source": [
    "\n",
    "# define function\n",
    "x = [2,4,8,16,32,64]\n",
    "y = []\n",
    "\n",
    "for i in x:\n",
    "    y.append(getAverageFinish(i))\n",
    "\n",
    "\n",
    "plt.xlabel('years')\n",
    "plt.ylabel('mutations')\n",
    "plt.title('mutations vs. age')\n",
    "\n",
    "# plot graph\n",
    "plt.plot(x,y, label=\"male\")\n",
    "plt.legend()\n",
    "plt.show()"
   ]
  },
  {
   "cell_type": "code",
   "execution_count": null,
   "metadata": {
    "collapsed": true
   },
   "outputs": [],
   "source": []
  }
 ],
 "metadata": {
  "kernelspec": {
   "display_name": "Python 3",
   "language": "python",
   "name": "python3"
  },
  "language_info": {
   "codemirror_mode": {
    "name": "ipython",
    "version": 3
   },
   "file_extension": ".py",
   "mimetype": "text/x-python",
   "name": "python",
   "nbconvert_exporter": "python",
   "pygments_lexer": "ipython3",
   "version": "3.6.0"
  }
 },
 "nbformat": 4,
 "nbformat_minor": 2
}

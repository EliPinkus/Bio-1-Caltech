{
 "cells": [
  {
   "cell_type": "markdown",
   "metadata": {},
   "source": [
    "See the above punet square:\n",
    "\n",
    "$f_r=1/2\\cdot1/2=1/4$\n",
    "\n",
    "$f_w=1/2\\cdot1/2=1/4$\n",
    "\n",
    "$f_o=1/2$"
   ]
  },
  {
   "cell_type": "markdown",
   "metadata": {},
   "source": [
    "$$f_r=\\frac{2\\cdot N_{red}+N_{orange}}{2 N_{red}+2N_{orange}+2N_{white}}$$\n",
    "\n",
    "$$f_w=\\frac{2\\cdot N_{white}+N_{orange}}{2 N_{red}+2N_{orange}+2N_{white}}$$"
   ]
  },
  {
   "cell_type": "code",
   "execution_count": 1,
   "metadata": {
    "collapsed": false
   },
   "outputs": [],
   "source": [
    "import numpy as np\n",
    "\n",
    "import matplotlib.pyplot as plt\n",
    "import seaborn as sns\n",
    "sns.set_context('notebook')\n",
    "%matplotlib inline\n",
    "\n",
    "\n",
    "# Define the initial conditions\n",
    "pop_size = 16\n",
    "n_alleles = 2 * pop_size\n",
    "n_gen = 19\n",
    "freq_r = 0.5\n",
    "n_simulations = 107\n",
    "frequency = np.zeros((n_simulations, n_gen+1))\n",
    "\n",
    "\n",
    "for i in range(n_simulations):\n",
    "    frequency[i, 0] = 0.5\n",
    "    for j in range(1, n_gen+1):\n",
    "        flips = np.random.rand(n_alleles)\n",
    "        \n",
    "        num_A = np.sum(flips < frequency[i, j-1])\n",
    "        \n",
    "        new_freq = num_A / n_alleles\n",
    "        \n",
    "        frequency[i, j] = new_freq\n"
   ]
  },
  {
   "cell_type": "code",
   "execution_count": 2,
   "metadata": {
    "collapsed": false
   },
   "outputs": [
    {
     "data": {
      "text/plain": [
       "(0, 1)"
      ]
     },
     "execution_count": 2,
     "metadata": {},
     "output_type": "execute_result"
    },
    {
     "data": {
      "image/png": "[encoded data removed]",
      "text/plain": [
       "<matplotlib.figure.Figure at 0x11198cfd0>"
      ]
     },
     "metadata": {},
     "output_type": "display_data"
    }
   ],
   "source": [
    "plt.hist(frequency[:, 19], bins=n_simulations, normed=True, label='generation=19')\n",
    "plt.hist(frequency[:, 10], bins=n_simulations, normed=True, label='generation=10')\n",
    "plt.hist(frequency[:, 1], bins=n_simulations, normed=True, label='generation=1')\n",
    "plt.hist(frequency[:, 0], bins=n_simulations, normed=True, label='generation=0')\n",
    "plt.xlabel('frequency')\n",
    "plt.ylabel('Jars')\n",
    "plt.legend()\n",
    "plt.title('jars at a given frequency')\n",
    "\n",
    "# Set the xlimits to cover the entire range. \n",
    "plt.xlim([0, 1])"
   ]
  },
  {
   "cell_type": "code",
   "execution_count": 5,
   "metadata": {
    "collapsed": false
   },
   "outputs": [
    {
     "data": {
      "text/plain": [
       "160.0467289719626"
      ]
     },
     "execution_count": 5,
     "metadata": {},
     "output_type": "execute_result"
    }
   ],
   "source": [
    "import numpy as np\n",
    "\n",
    "import matplotlib.pyplot as plt\n",
    "import seaborn as sns\n",
    "sns.set_context('notebook')\n",
    "%matplotlib inline\n",
    "\n",
    "def getAverageFinish(pop):\n",
    "    # Define the initial conditions\n",
    "    pop_size = pop\n",
    "    n_alleles = 2 * pop_size\n",
    "    n_gen = 1000\n",
    "    freq_r = 0.5\n",
    "    n_simulations = 107\n",
    "    frequency = np.zeros((n_simulations, n_gen+1))\n",
    "    \n",
    "    zero_pts = []\n",
    "\n",
    "    for i in range(n_simulations):\n",
    "        frequency[i, 0] = 0.5\n",
    "        for j in range(1, n_gen+1):\n",
    "            flips = np.random.rand(n_alleles)\n",
    "\n",
    "            num_r = np.sum(flips < frequency[i, j-1])\n",
    "\n",
    "            new_freq = num_r / n_alleles\n",
    "\n",
    "            frequency[i, j] = new_freq\n",
    "\n",
    "            if new_freq == 0 or new_freq == 1:\n",
    "                zero_pts.append(float(j))\n",
    "                break\n",
    "\n",
    "    return float(np.average(zero_pts))"
   ]
  },
  {
   "cell_type": "code",
   "execution_count": 4,
   "metadata": {
    "collapsed": false
   },
   "outputs": [
    {
     "data": {
      "image/png": "[encoded data removed]",
      "text/plain": [
       "<matplotlib.figure.Figure at 0x11bdbbcc0>"
      ]
     },
     "metadata": {},
     "output_type": "display_data"
    }
   ],
   "source": [
    "#1d\n",
    "# define function\n",
    "x = [2,4,8,16,32,64]\n",
    "y = []\n",
    "\n",
    "for i in x:\n",
    "    y.append(getAverageFinish(i))\n",
    "\n",
    "\n",
    "plt.xlabel('years')\n",
    "plt.ylabel('mutations')\n",
    "plt.title('mutations vs. age')\n",
    "\n",
    "# plot graph\n",
    "plt.plot(x,y, label=\"male\")\n",
    "plt.legend()\n",
    "plt.show()"
   ]
  },
  {
   "cell_type": "code",
   "execution_count": 12,
   "metadata": {
    "collapsed": true
   },
   "outputs": [],
   "source": [
    "#1ef\n",
    "\n",
    "# Define the initial conditions\n",
    "pop_size = 16\n",
    "n_alleles = 2 * pop_size\n",
    "n_gen = 500\n",
    "freq_r = 0.5\n",
    "n_simulations = 100\n",
    "frequency = np.zeros((n_simulations, n_gen+1))\n",
    "u = 0.001\n",
    "\n",
    "\n",
    "for i in range(n_simulations):\n",
    "    frequency[i, 0] = 0.5\n",
    "    for j in range(1, n_gen+1):\n",
    "        flips = np.random.rand(n_alleles)\n",
    "        \n",
    "        num_r = np.sum(flips < frequency[i, j-1])\n",
    "        \n",
    "        # flip for possible mutations\n",
    "        r_to_w_flips = np.random.rand(num_r)\n",
    "        w_to_r_flips = np.random.rand(n_alleles-num_r)\n",
    "        # adjust for mutations\n",
    "        num_r -= np.sum(r_to_w_flips <= u)\n",
    "        num_r += np.sum(w_to_r_flips <= u)\n",
    "        \n",
    "        new_freq = num_r / n_alleles\n",
    "        \n",
    "        frequency[i, j] = new_freq"
   ]
  },
  {
   "cell_type": "code",
   "execution_count": 13,
   "metadata": {
    "collapsed": false
   },
   "outputs": [
    {
     "data": {
      "text/plain": [
       "(0, 1)"
      ]
     },
     "execution_count": 13,
     "metadata": {},
     "output_type": "execute_result"
    },
    {
     "data": {
      "image/png": "[encoded data removed]",
      "text/plain": [
       "<matplotlib.figure.Figure at 0x11ca0def0>"
      ]
     },
     "metadata": {},
     "output_type": "display_data"
    }
   ],
   "source": [
    "plt.hist(frequency[:, 500], bins=n_simulations, normed=True, label='generation=500')\n",
    "plt.hist(frequency[:, 100], bins=n_simulations, normed=True, label='generation=100')\n",
    "plt.hist(frequency[:, 50], bins=n_simulations, normed=True, label='generation=50')\n",
    "plt.hist(frequency[:, 10], bins=n_simulations, normed=True, label='generation=10')\n",
    "plt.hist(frequency[:, 5], bins=n_simulations, normed=True, label='generation=5')\n",
    "plt.hist(frequency[:, 0], bins=n_simulations, normed=True, label='generation=0')\n",
    "plt.xlabel('frequency')\n",
    "plt.ylabel('Jars')\n",
    "plt.legend()\n",
    "plt.title('population at a given frequency')\n",
    "\n",
    "# Set the xlimits to cover the entire range. \n",
    "plt.xlim([0, 1])"
   ]
  },
  {
   "cell_type": "markdown",
   "metadata": {},
   "source": [
    "A key difference between this case and the case with a 0 mutation rate is that when there is 0 mutation rate a population that comes to be 100% red or white has no mechanism by which to dehomogonize so there will be more populations that end at either extreme (0 or 1), whereas the populations with mutations will not have as many perfectly homogoonous populations."
   ]
  },
  {
   "cell_type": "code",
   "execution_count": null,
   "metadata": {
    "collapsed": true
   },
   "outputs": [],
   "source": []
  }
 ],
 "metadata": {
  "kernelspec": {
   "display_name": "Python 3",
   "language": "python",
   "name": "python3"
  },
  "language_info": {
   "codemirror_mode": {
    "name": "ipython",
    "version": 3
   },
   "file_extension": ".py",
   "mimetype": "text/x-python",
   "name": "python",
   "nbconvert_exporter": "python",
   "pygments_lexer": "ipython3",
   "version": "3.6.0"
  }
 },
 "nbformat": 4,
 "nbformat_minor": 2
}

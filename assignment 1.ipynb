{
 "cells": [
  {
   "cell_type": "markdown",
   "metadata": {},
   "source": [
    "1a)\n",
    "\n",
    "Num floors in Milikan $\\approx10$\n",
    "\n",
    "Num shevles per floor $\\approx10$\n",
    "\n",
    "Num books per shelf $\\approx10^2$\n",
    "\n",
    "Num pages per book $\\approx10^2$\n",
    "\n",
    "Num words per page $\\approx10^2$\n",
    "\n",
    "Num letter per word $\\approx1$\n",
    "\n",
    "Num bytes per letter $\\approx1$\n",
    "\n",
    "$10\\cdot10\\cdot10^2\\cdot10^2\\cdot10^2\\cdot1\\cdot1=\\times10^9$ bytes $=1$ Gb"
   ]
  },
  {
   "cell_type": "markdown",
   "metadata": {},
   "source": [
    "E. coli:\n",
    "$\\approx10^6$ base pairs $\\times 1$ bit/pair $\\times1/10$ bytes/bit = $1\\times10^5$ bytes\n",
    "\n",
    "\n",
    "Human:\n",
    "$10^9$ pairs $\\times 1$ bit/pair$/8\\approx0.1$ Gb"
   ]
  },
  {
   "cell_type": "markdown",
   "metadata": {},
   "source": [
    "1b)\n",
    "\n",
    "$10^3$ nucleotides $=10^3$ bytes $\\approx 10^2 = 100$ bytes\n",
    "\n",
    "$100$ micron sides model as a cube\n",
    "\n",
    "$100$ bytes $/(100\\times10^{-9})^3 m^3=1\\times10^{23}$ bytes/meter "
   ]
  },
  {
   "cell_type": "code",
   "execution_count": null,
   "metadata": {
    "collapsed": true
   },
   "outputs": [],
   "source": []
  }
 ],
 "metadata": {
  "kernelspec": {
   "display_name": "Python 3",
   "language": "python",
   "name": "python3"
  },
  "language_info": {
   "codemirror_mode": {
    "name": "ipython",
    "version": 3
   },
   "file_extension": ".py",
   "mimetype": "text/x-python",
   "name": "python",
   "nbconvert_exporter": "python",
   "pygments_lexer": "ipython3",
   "version": "3.6.0"
  }
 },
 "nbformat": 4,
 "nbformat_minor": 2
}

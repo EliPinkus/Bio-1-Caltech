{
 "cells": [
  {
   "cell_type": "markdown",
   "metadata": {},
   "source": [
    "1a)\n",
    "\n",
    "Order of magnitute estimates:\n",
    "\n",
    "\n",
    "Num floors in Milikan $\\approx10$\n",
    "\n",
    "Num shevles per floor $\\approx10$\n",
    "\n",
    "Num books per shelf $\\approx10^2$\n",
    "\n",
    "Num pages per book $\\approx5\\times10^2$\n",
    "\n",
    "Num words per page $\\approx10^2$\n",
    "\n",
    "Num letter per word $\\approx5$\n",
    "\n",
    "Num bytes per letter $\\approx1$\n",
    "\n",
    "$10\\cdot10\\cdot10^2\\cdot5\\times\\cdot10^2\\cdot10^2\\cdot5\\cdot1=5\\times10^9$ bytes $=3$ Gb"
   ]
  },
  {
   "cell_type": "markdown",
   "metadata": {},
   "source": [
    "E. coli:\n",
    "$\\approx5\\times10^6$ base pairs $\\times 2$ bits/pair $\\times1/10$ bytes/bit/2parents = $.5\\times10^6$ bytes=1 Mb\n",
    "\n",
    "\n",
    "Human:\n",
    "$5\\times10^{9}$ pairs $\\times 2$ bit/pair$/10(bits/byte)\\approx1$ Gb"
   ]
  },
  {
   "cell_type": "markdown",
   "metadata": {},
   "source": [
    "1b)\n",
    "\n",
    "$10^4$ nucleotides $=10^4$ bits $\\approx 10^3 bytes = 1000$ bytes\n",
    "\n",
    "$100$ micron sides model as a cube\n",
    "\n",
    "$1000$ bytes $/(100\\times10^{-9})^3 m^3=1\\times10^{24}$ bytes/meter$^3$\n",
    "\n",
    "Flash drives as small as 1cm$^3$ can hold 100+ Gb these days.\n",
    "\n",
    "$1\\times10^{11}/1\\times10^{-6}=1\\times10^{17}$ bytes/m$^3$\n",
    "\n",
    "computer storage is far less dense."
   ]
  },
  {
   "cell_type": "markdown",
   "metadata": {
    "collapsed": true
   },
   "source": [
    "1c)\n",
    "\n",
    "Harry Potter:\n",
    "\n",
    "$\\approx7$ books\n",
    "\n",
    "num pages per book $\\approx10^2$\n",
    "\n",
    "num words per pages $\\approx10^2$\n",
    "\n",
    "num characters per word $\\approx5$\n",
    "\n",
    "num copies sold $\\approx 70\\times10^6$\n",
    "\n",
    "$7\\times 100 \\times 100 \\times 5\\approx 4\\times10^5$ characters\n",
    "\n",
    "num base pairs in SRA $\\approx 10^{16}$\n",
    "\n",
    "$10^{16}/4\\times10^5\\approx 3\\times10^{10}$ copies of the entire series\n",
    "\n",
    "$7\\times 100 \\times 100 \\times 5\\times 70\\times10^6\\approx 2\\times10^{13}$ characters sold overall\n",
    "\n",
    "$10^16/2\\times10^{13}\\approx1\\times10^3$ time the characters in SRA as characters in all harry potter books sold ever\n",
    "\n",
    "\n"
   ]
  },
  {
   "cell_type": "code",
   "execution_count": null,
   "metadata": {
    "collapsed": true
   },
   "outputs": [],
   "source": [
    "! conda install biopython --yes"
   ]
  },
  {
   "cell_type": "code",
   "execution_count": 18,
   "metadata": {
    "collapsed": false
   },
   "outputs": [],
   "source": [
    "def compute_similarity(seq_1, seq_2):\n",
    "    \"\"\"\n",
    "    returns similarity score given two sequences\n",
    "    \"\"\"\n",
    "    # checks length equality\n",
    "    if len(seq_1) != len(seq_2):\n",
    "        raise ValueError('sequences not the same length')\n",
    "        \n",
    "    seq_1 = seq_1.lower()\n",
    "    seq_2 = seq_2.lower()\n",
    "    \n",
    "    comp_length = 0\n",
    "    num_sim = 0\n",
    "    \n",
    "    for base in range(len(seq_1)):\n",
    "        \n",
    "        # skip the gaps\n",
    "        if (seq_1[base] != '-') and (seq_2[base] != '-'):\n",
    "            \n",
    "            comp_length += 1\n",
    "            \n",
    "            if seq_1[base] == seq_2[base]:\n",
    "                num_sim += 1\n",
    "                \n",
    "    # return similarity score\n",
    "    score = num_sim  / comp_length\n",
    "    return score"
   ]
  },
  {
   "cell_type": "code",
   "execution_count": 19,
   "metadata": {
    "collapsed": false
   },
   "outputs": [
    {
     "name": "stdout",
     "output_type": "stream",
     "text": [
      "Ptychadena oxyrhynchus, South Africa, Kwambonambi and Ptychadena newtoni, Sao Tome   score: 0.8483685220729367\n",
      "Ptychadena oxyrhynchus, South Africa, Kwambonambi and Ptychadena newtoni, Sao Tome   score: 0.8495049504950495\n",
      "Ptychadena oxyrhynchus, South Africa, Kwambonambi and Ptychadena newtoni, Sao Tome   score: 0.8483685220729367\n",
      "Ptychadena anchietae, South Africa, Mtunzini and Ptychadena newtoni, Sao Tome   score: 0.8455598455598455\n",
      "Ptychadena anchietae, South Africa, Mtunzini and Ptychadena newtoni, Sao Tome   score: 0.8472222222222222\n",
      "Ptychadena anchietae, South Africa, Mtunzini and Ptychadena newtoni, Sao Tome   score: 0.8455598455598455\n",
      "Ptychadena mascareniensis, Madagascar, Nahampoana and Ptychadena newtoni, Sao Tome   score: 0.9176245210727969\n",
      "Ptychadena mascareniensis, Madagascar, Nahampoana and Ptychadena newtoni, Sao Tome   score: 0.9189723320158103\n",
      "Ptychadena mascareniensis, Madagascar, Nahampoana and Ptychadena newtoni, Sao Tome   score: 0.9176245210727969\n",
      "Ptychadena mahnerti, Kenya, Mt Kenya and Ptychadena newtoni, Sao Tome   score: 0.8480769230769231\n",
      "Ptychadena mahnerti, Kenya, Mt Kenya and Ptychadena newtoni, Sao Tome   score: 0.8511904761904762\n",
      "Ptychadena mahnerti, Kenya, Mt Kenya and Ptychadena newtoni, Sao Tome   score: 0.8480769230769231\n",
      "Ptychadena aff. aequiplicata, Cameroon, Dja Reserve and Ptychadena newtoni, Sao Tome   score: 0.8478260869565217\n",
      "Ptychadena aff. aequiplicata, Cameroon, Dja Reserve and Ptychadena newtoni, Sao Tome   score: 0.8478260869565217\n",
      "Ptychadena aff. aequiplicata, Cameroon, Dja Reserve and Ptychadena newtoni, Sao Tome   score: 0.8478260869565217\n",
      "Ptychadena anchietae, Kenya, Kararacha Pond and Ptychadena newtoni, Sao Tome   score: 0.8436781609195402\n",
      "Ptychadena anchietae, Kenya, Kararacha Pond and Ptychadena newtoni, Sao Tome   score: 0.8436781609195402\n",
      "Ptychadena anchietae, Kenya, Kararacha Pond and Ptychadena newtoni, Sao Tome   score: 0.8436781609195402\n",
      "Ptychadena anchietae, Somalia, Karin, Bari Region and Ptychadena newtoni, Sao Tome   score: 0.8415841584158416\n",
      "Ptychadena anchietae, Somalia, Karin, Bari Region and Ptychadena newtoni, Sao Tome   score: 0.8415841584158416\n",
      "Ptychadena anchietae, Somalia, Karin, Bari Region and Ptychadena newtoni, Sao Tome   score: 0.8415841584158416\n",
      "Ptychadena anchietae, Somalia, Karin, Bari Region and Ptychadena newtoni, Sao Tome   score: 0.8461538461538461\n",
      "Ptychadena anchietae, Somalia, Karin, Bari Region and Ptychadena newtoni, Sao Tome   score: 0.8461538461538461\n",
      "Ptychadena anchietae, Somalia, Karin, Bari Region and Ptychadena newtoni, Sao Tome   score: 0.8461538461538461\n",
      "Ptychadena nilotica, Uganda, Lake Victoria and Ptychadena newtoni, Sao Tome   score: 0.9483747609942639\n",
      "Ptychadena nilotica, Uganda, Lake Victoria and Ptychadena newtoni, Sao Tome   score: 0.9486166007905138\n",
      "Ptychadena nilotica, Uganda, Lake Victoria and Ptychadena newtoni, Sao Tome   score: 0.9483747609942639\n",
      "Ptychadena nilotica, Kenya, Makuru and Ptychadena newtoni, Sao Tome   score: 0.9445506692160612\n",
      "Ptychadena nilotica, Kenya, Makuru and Ptychadena newtoni, Sao Tome   score: 0.9446640316205533\n",
      "Ptychadena nilotica, Kenya, Makuru and Ptychadena newtoni, Sao Tome   score: 0.9445506692160612\n",
      "Ptychadena nilotica, Kenya, Mt Kenya and Ptychadena newtoni, Sao Tome   score: 0.9464627151051626\n",
      "Ptychadena nilotica, Kenya, Mt Kenya and Ptychadena newtoni, Sao Tome   score: 0.9466403162055336\n",
      "Ptychadena nilotica, Kenya, Mt Kenya and Ptychadena newtoni, Sao Tome   score: 0.9464627151051626\n",
      "Ptychadena nilotica, Kenya, Mt Kenya and Ptychadena newtoni, Sao Tome   score: 0.9464627151051626\n",
      "Ptychadena nilotica, Kenya, Mt Kenya and Ptychadena newtoni, Sao Tome   score: 0.9466403162055336\n",
      "Ptychadena nilotica, Kenya, Mt Kenya and Ptychadena newtoni, Sao Tome   score: 0.9464627151051626\n",
      "Ptychadena nilotica, Kenya, Taita Hills and Ptychadena newtoni, Sao Tome   score: 0.945010183299389\n",
      "Ptychadena nilotica, Kenya, Taita Hills and Ptychadena newtoni, Sao Tome   score: 0.945010183299389\n",
      "Ptychadena nilotica, Kenya, Taita Hills and Ptychadena newtoni, Sao Tome   score: 0.945010183299389\n",
      "Ptychadena nilotica, Kenya, Taita Hills and Ptychadena newtoni, Sao Tome   score: 0.9429175475687104\n",
      "Ptychadena nilotica, Kenya, Taita Hills and Ptychadena newtoni, Sao Tome   score: 0.9429175475687104\n",
      "Ptychadena nilotica, Kenya, Taita Hills and Ptychadena newtoni, Sao Tome   score: 0.9429175475687104\n",
      "Ptychadena nilotica, Tanzania, Kibebe farm and Ptychadena newtoni, Sao Tome   score: 0.950592885375494\n",
      "Ptychadena nilotica, Tanzania, Kibebe farm and Ptychadena newtoni, Sao Tome   score: 0.950592885375494\n",
      "Ptychadena nilotica, Tanzania, Kibebe farm and Ptychadena newtoni, Sao Tome   score: 0.950592885375494\n",
      "Ptychadena aff. mascareniensis, Guinea and Ptychadena newtoni, Sao Tome   score: 0.921455938697318\n",
      "Ptychadena aff. mascareniensis, Guinea and Ptychadena newtoni, Sao Tome   score: 0.924901185770751\n",
      "Ptychadena aff. mascareniensis, Guinea and Ptychadena newtoni, Sao Tome   score: 0.921455938697318\n",
      "Ptychadena aff. mascareniensis, Uganda, Kampala and Ptychadena newtoni, Sao Tome   score: 0.9329501915708812\n",
      "Ptychadena aff. mascareniensis, Uganda, Kampala and Ptychadena newtoni, Sao Tome   score: 0.9367588932806324\n",
      "Ptychadena aff. mascareniensis, Uganda, Kampala and Ptychadena newtoni, Sao Tome   score: 0.9329501915708812\n",
      "Ptychadena aff. mascareniensis, Central African Republic, Dzanga-Sangha Reserve and Ptychadena newtoni, Sao Tome   score: 0.9184652278177458\n",
      "Ptychadena aff. mascareniensis, Central African Republic, Dzanga-Sangha Reserve and Ptychadena newtoni, Sao Tome   score: 0.9226932668329177\n",
      "Ptychadena aff. mascareniensis, Central African Republic, Dzanga-Sangha Reserve and Ptychadena newtoni, Sao Tome   score: 0.9184652278177458\n",
      "Ptychadena oxyrhynchus, Malawi and Ptychadena newtoni, Sao Tome   score: 0.8541266794625719\n",
      "Ptychadena oxyrhynchus, Malawi and Ptychadena newtoni, Sao Tome   score: 0.8554455445544554\n",
      "Ptychadena oxyrhynchus, Malawi and Ptychadena newtoni, Sao Tome   score: 0.8541266794625719\n",
      "Ptychadena aff. porosissima, Tanzania, Tatanda and Ptychadena newtoni, Sao Tome   score: 0.8313725490196079\n",
      "Ptychadena aff. porosissima, Tanzania, Tatanda and Ptychadena newtoni, Sao Tome   score: 0.8333333333333334\n",
      "Ptychadena aff. porosissima, Tanzania, Tatanda and Ptychadena newtoni, Sao Tome   score: 0.8313725490196079\n",
      "Ptychadena porosissima, Tanzania, Mumba and Ptychadena newtoni, Sao Tome   score: 0.8568627450980392\n",
      "Ptychadena porosissima, Tanzania, Mumba and Ptychadena newtoni, Sao Tome   score: 0.8571428571428571\n",
      "Ptychadena porosissima, Tanzania, Mumba and Ptychadena newtoni, Sao Tome   score: 0.8568627450980392\n",
      "Ptychadena pumilio, Guinea, Mont Bero and Ptychadena newtoni, Sao Tome   score: 0.869757174392936\n",
      "Ptychadena pumilio, Guinea, Mont Bero and Ptychadena newtoni, Sao Tome   score: 0.8672768878718535\n",
      "Ptychadena pumilio, Guinea, Mont Bero and Ptychadena newtoni, Sao Tome   score: 0.869757174392936\n",
      "Ptychadena taenioscelis, Kenya, Kakamega and Ptychadena newtoni, Sao Tome   score: 0.9022988505747126\n",
      "Ptychadena taenioscelis, Kenya, Kakamega and Ptychadena newtoni, Sao Tome   score: 0.9031620553359684\n",
      "Ptychadena taenioscelis, Kenya, Kakamega and Ptychadena newtoni, Sao Tome   score: 0.9022988505747126\n",
      "Ptychadena sp., Tanzania, Mikumi and Ptychadena newtoni, Sao Tome   score: 0.875\n",
      "Ptychadena sp., Tanzania, Mikumi and Ptychadena newtoni, Sao Tome   score: 0.8774703557312253\n",
      "Ptychadena sp., Tanzania, Mikumi and Ptychadena newtoni, Sao Tome   score: 0.875\n",
      "Ptychadena aff. uzungwensis, Tanzania, Njombe and Ptychadena newtoni, Sao Tome   score: 0.862\n",
      "Ptychadena aff. uzungwensis, Tanzania, Njombe and Ptychadena newtoni, Sao Tome   score: 0.862\n",
      "Ptychadena aff. uzungwensis, Tanzania, Njombe and Ptychadena newtoni, Sao Tome   score: 0.862\n"
     ]
    }
   ],
   "source": [
    "import Bio.SeqIO\n",
    "with open('data/hw1_dataset/frogs_st.txt', 'r') as seq:\n",
    "    st_file = Bio.SeqIO.parse(seq, 'fasta')\n",
    "    st_sequences = [record for record in st_file]\n",
    "    \n",
    "with open('data/hw1_dataset/frogs_africa.txt', 'r') as seq:\n",
    "    a_file = Bio.SeqIO.parse(seq, 'fasta')\n",
    "    a_sequences = [record for record in a_file]\n",
    "\n",
    "# compare combinations of sequences from the two lists and print results\n",
    "for seq1 in a_sequences:\n",
    "    for seq2 in st_sequences:\n",
    "        score = compute_similarity(seq1,seq2)\n",
    "        \n",
    "        print (seq1.description + \" and \" + seq2.description + \"   score: \" + str(score))\n",
    "    \n"
   ]
  },
  {
   "cell_type": "markdown",
   "metadata": {},
   "source": [
    "Ptychadena nilotica, Tanzania, Kibebe farm and Ptychadena newtoni, Sao Tome is the most matched\n",
    "Ptychadena nilotica, Uganda, Lake Victoria and Ptychadena newtoni, Sao Tome is the second most matched\n",
    "Ptychadena nilotica, Kenya, Mt Kenya and Ptychadena newtoni, Sao Tome is the third most matched\n"
   ]
  },
  {
   "cell_type": "markdown",
   "metadata": {},
   "source": [
    "2b) the frogs definately came from the estern africa cluster of Uganda, Tanzania and Kenya\n",
    "\n",
    "Because of this we can test the raft transport theory by estimating the total number of frogs that made it accross on rafts:\n",
    "\n",
    "I estimate that a tree falls into the water 1 time in a thousand years.\n",
    "\n",
    "I estimate that a frog makes it on every tenth tree or so.\n",
    "\n",
    "I estimate that the frog survival rate throughout the journey is 1%:\n",
    "\n",
    "$10^{-3} trees / year \\times 1 frog / 10 trees \\times 1/100 \\times 10^7 years \\approx 10 frogs$"
   ]
  },
  {
   "cell_type": "markdown",
   "metadata": {},
   "source": [
    "![](data/cladoset1.jpg)"
   ]
  },
  {
   "cell_type": "markdown",
   "metadata": {},
   "source": [
    "3b)\n",
    "\n",
    "We know that we have $4\\times10^6$ base pairs.\n",
    "\n",
    "We know that cholera replicates every 40 minutes.\n",
    "\n",
    "We know that there are 2 mutations between the Haiti strain and Strain 14.\n",
    "\n",
    "We know that strain 14 was samples 2 months before the Haiti strain.\n",
    "\n",
    "3 months $\\approx$ 130000 minutes\n",
    "\n",
    "130000 minutes $\\times 1$ replication /40 minutes $\\approx$ 3300 replications\n",
    "\n",
    "2 mutations / 3300 replications / $4\\times10^6$ base pairs $\\approx2\\times10^{-10}$ mutations/replication/basepair"
   ]
  },
  {
   "cell_type": "markdown",
   "metadata": {},
   "source": [
    "4a)\n",
    "\n",
    "Around 80 million years ago the large landmass split into two submasses where mass 1 contains the lands of New Zeland and New Caledonia and mass 2 contains the lands of southern south america, west antarctica, Australia, and new Guinea.\n",
    "\n",
    "Around 70 million years ago mass 1 split into New Zeland and New Caledonia.\n",
    "\n",
    "around 50 million years ago mass 2 divided into 2 more submasses mass 2,1 containing Southern South America and West Antarctica and mass 2,2 containing Australia and New Guinea.\n",
    "\n",
    "Around 30 million years ago mass 2,1 divided into Southern South America and West Antarctica.\n",
    "\n",
    "Around 10 million years ago mass 2,2 divided into Australia and New Guinea."
   ]
  },
  {
   "cell_type": "markdown",
   "metadata": {},
   "source": [
    "4b)\n",
    "\n",
    "We know that New Zeland and Australia split about $80\\times10^6\\approx10^7$ years ago\n",
    "\n",
    "We know that there are  about 10 mutations per $10^9$ base pairs per generation.\n",
    "\n",
    "We know that the genome in question is $500\\times10^6$ base pairs.\n",
    "\n",
    "We know that a generation is about 20 years\n",
    "\n",
    "(10 mutations / $10^9$ base pairs / generation) * ($500\\times10^6$ base pairs / genome) * (1 generation / 20 years) * $10^8$ years$\\approx 3\\times 10^7$"
   ]
  },
  {
   "cell_type": "markdown",
   "metadata": {},
   "source": [
    "4c)\n",
    "\n",
    "Using above info we set up an algebraic equation:\n",
    "\n",
    "9 million $\\approx10^7$\n",
    "\n",
    "(10 mutations / $10^9$ base pairs / generation) * ($500\\times10^6$ base pairs / genome) * (1 generation / 20 years) * $x$ years=$10^7$ mutations/genome\n",
    "\n",
    "\n",
    "Solve for $x$:\n",
    "\n",
    "$x\\approx10^7$\n",
    "\n",
    "This similarity supports the evidence of the vicariance hypothesis as the seperation of landmasses seams to coincide with the number of mutations."
   ]
  },
  {
   "cell_type": "code",
   "execution_count": null,
   "metadata": {
    "collapsed": true
   },
   "outputs": [],
   "source": []
  }
 ],
 "metadata": {
  "kernelspec": {
   "display_name": "Python 3",
   "language": "python",
   "name": "python3"
  },
  "language_info": {
   "codemirror_mode": {
    "name": "ipython",
    "version": 3
   },
   "file_extension": ".py",
   "mimetype": "text/x-python",
   "name": "python",
   "nbconvert_exporter": "python",
   "pygments_lexer": "ipython3",
   "version": "3.6.0"
  }
 },
 "nbformat": 4,
 "nbformat_minor": 2
}

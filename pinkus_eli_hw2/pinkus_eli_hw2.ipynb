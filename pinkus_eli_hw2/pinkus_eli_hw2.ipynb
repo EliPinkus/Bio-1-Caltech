{
 "cells": [
  {
   "cell_type": "markdown",
   "metadata": {},
   "source": [
    "1a)\n",
    "\n",
    "We begin by asserting that a standard human consumes $\\approx 2000$ K cal/day as seen on a standard nutrition facts label\n",
    "\n",
    "Knowing Kleiber law that the metabolic rate of an animal scales with $3/4$ power of its mass we can setup a proportion as seen below:\n",
    "\n",
    "$\\frac{2000kcal/day}{x}=\\frac{(70kg)^{3/4}}{(3800kg)^{3/4}}\\Rightarrow x\\approx40,000 kcal/day=1.7\\times10^8 J$\n",
    "\n",
    "We know that $1kcal/day\\approx4\\times10^{-5}watts/day$\n",
    "\n",
    "So we have that a standard whale of 3800kg consumes around 2 watts\n",
    "\n",
    "We can look at male vs female specifically:\n",
    "\n",
    "Female\n",
    "\n",
    "$\\frac{2000kcal/day}{x}=\\frac{(70kg)^{3/4}}{(2800kg)^{3/4}}\\Rightarrow x\\approx30,000 kcal/day$\n",
    "\n",
    "Male:\n",
    "\n",
    "$\\frac{2000kcal/day}{x}=\\frac{(70kg)^{3/4}}{(4700kg)^{3/4}}\\Rightarrow x\\approx47,000 kcal/day$\n",
    "\n",
    "If we assume that fish have a similar energy per wet mass we can see that the whale would require:\n",
    "\n",
    "$\\frac{1g}{7kJ}\\times1.7\\times10^5 kJ\\approx24kG\\approx53lbs$ of fish per day must be fed to the whale"
   ]
  },
  {
   "cell_type": "markdown",
   "metadata": {},
   "source": [
    "1b)\n",
    "\n",
    "We know that an adult sea otter weighs about 30 kg\n",
    "\n",
    "We know that a seas otter contains about 10kJ for each gram of wet mass.\n",
    "\n",
    "We therefore have that a standard sea otter has about $30,000g\\times\\frac{10kJ}{1g}=300,000kJ$\n",
    "\n",
    "A whale consumes 50,000kCal per day\n",
    "\n",
    "$\\frac{50000kCal}{day}\\times\\frac{4.184kJ}{1kCal}\\times\\frac{1 otter}{300000kJ}\\approx1 otters/day$\n",
    "\n",
    "We convert to otters per year:\n",
    "\n",
    "$\\approx400$ otters/year\n",
    "\n",
    "we can therefore write a simple relationship between the number of whales on the Otter diet vs. Otters lost to the diet:\n",
    "\n",
    "$B(n)=400\\cdot n$ for $n>0$"
   ]
  },
  {
   "cell_type": "code",
   "execution_count": 5,
   "metadata": {
    "collapsed": true
   },
   "outputs": [],
   "source": [
    "import numpy as np\n",
    "import matplotlib.pyplot as plt"
   ]
  },
  {
   "cell_type": "code",
   "execution_count": 6,
   "metadata": {
    "collapsed": false
   },
   "outputs": [
    {
     "data": {
      "image/png": "[encoded data removed]",
      "text/plain": [
       "<matplotlib.figure.Figure at 0x1128dd898>"
      ]
     },
     "metadata": {},
     "output_type": "display_data"
    }
   ],
   "source": [
    "# define function\n",
    "x = np.linspace(0,10000,10000)\n",
    "y = 400*x\n",
    "\n",
    "plt.xlabel('number of whales on the seal diet')\n",
    "plt.ylabel('number of seals eaten per year')\n",
    "plt.title('seals eaten per year vs number of whales on the seal diet')\n",
    "\n",
    "# plot graph\n",
    "plt.plot(x,y)\n",
    "plt.show()"
   ]
  },
  {
   "cell_type": "markdown",
   "metadata": {},
   "source": [
    "1c)\n",
    "\n",
    "We assume that the otter population remains relatively consistent in normal conditions.\n",
    "\n",
    "We see from the figure that a peak population of $6\\times10^4$ is reduced by about $80\\%$ to about 10,000 otters\n",
    "\n",
    "So we know that we lost about $6\\times10^4 - 10,000\\approx50000$ otters.\n",
    "\n",
    "So if we lost that many otters over a period of ten years we have:\n",
    "\n",
    "$50000 otters\\times\\frac{1 whale\\cdot year}{400 otters}\\times\\frac{1}{10 years}\\approx 10$ whales"
   ]
  },
  {
   "cell_type": "markdown",
   "metadata": {},
   "source": [
    "1d)\n",
    "\n",
    "Given the density of whales we can find the approximate number of killer whales in the island area:\n",
    "\n",
    "We know that the area 200 nautical miles from the island is $\\pi\\cdot r^2=\\pi\\cdot 200^2\\approx130,000$ square nautical miles.\n",
    "\n",
    "$\\frac{4 orcas}{1000 km^2}\\times\\frac{1 km^2}{0.29 nautical miles^2}\\times130,000 nauticalmiles^2\\times\\frac{10 crazy whales}{100 whales}\\approx200$ seal eating whales"
   ]
  },
  {
   "cell_type": "markdown",
   "metadata": {},
   "source": [
    "1e)\n",
    "\n",
    "We know that the seas have been watched during the daylight for 10 weeks of the last 6 years:\n",
    "\n",
    "We assume that the people were watching about 4 at a time for about 15 hours a day considering long daylight hours.\n",
    "\n",
    "$60 weeks\\times\\frac{7 days}{week}\\times\\frac{15 hours}{day}\\times5 people\\approx 30,000$ people-hours in the six years"
   ]
  },
  {
   "cell_type": "markdown",
   "metadata": {},
   "source": [
    "1f)\n",
    "\n",
    "we have 10 whales eating about 1 otter per day\n",
    "\n",
    "We assume all kills occur on the coastline\n",
    "\n",
    "If a watchman can see about 1km of coast line from there watch point, then 5 wathcmen can see about 5km of coast line which represents $\\frac{5km}{2000km}\\times 100=0.25\\%$ of the coastline\n",
    "\n",
    "\n",
    "We have 30,000 people-hours = 6000 actual hours viewing 1% of the coast each year in six years\n",
    "\n",
    "We have 6000 hours = 0.7 years so they were viewing 1% of the coast for 0.7 out of the 6 years\n",
    "\n",
    "We also assume that the distribution of attacks along the coastline is relatively even\n",
    "\n",
    "So we have:\n",
    "\n",
    "$6 years\\times10 whales\\times\\frac{400 attacks}{year\\cdot whale}\\times\\frac{0.25attacks seen}{100 attacks}\\times\\frac{0.7 years}{6 years}\\approx7$ attacks seen"
   ]
  },
  {
   "cell_type": "markdown",
   "metadata": {},
   "source": [
    "1g)"
   ]
  },
  {
   "cell_type": "code",
   "execution_count": 7,
   "metadata": {
    "collapsed": true
   },
   "outputs": [],
   "source": [
    "import numpy as np\n",
    "import matplotlib.pyplot as plt\n",
    "import seaborn as sns\n",
    "%matplotlib inline"
   ]
  },
  {
   "cell_type": "code",
   "execution_count": 27,
   "metadata": {
    "collapsed": true
   },
   "outputs": [],
   "source": [
    "# initialize data\n",
    "n_0 = 2\n",
    "k = 0.5 \n",
    "total_time = 40\n",
    "dt = 1E-2\n",
    "\n",
    "time_range = np.arange(0, total_time, dt)\n",
    "\n",
    "n_t = np.zeros(len(time_range))\n",
    "\n",
    "n_t[0]=n_0"
   ]
  },
  {
   "cell_type": "code",
   "execution_count": 28,
   "metadata": {
    "collapsed": false
   },
   "outputs": [],
   "source": [
    "# calculate values\n",
    "for i in range(len(time_range) - 1):\n",
    "    dN = k * n_t[i] * dt\n",
    "    n_t[i + 1] = n_t[i] + dN"
   ]
  },
  {
   "cell_type": "code",
   "execution_count": 29,
   "metadata": {
    "collapsed": false
   },
   "outputs": [
    {
     "data": {
      "text/plain": [
       "<matplotlib.legend.Legend at 0x11a639eb8>"
      ]
     },
     "execution_count": 29,
     "metadata": {},
     "output_type": "execute_result"
    },
    {
     "data": {
      "image/png": "[encoded data removed]",
      "text/plain": [
       "<matplotlib.figure.Figure at 0x11a57aa90>"
      ]
     },
     "metadata": {},
     "output_type": "display_data"
    }
   ],
   "source": [
    "# plot details\n",
    "plt.plot(time_range, n_t, '-', label='otters')\n",
    "plt.xlabel('time (years)')\n",
    "plt.ylabel('otters')\n",
    "plt.title('otters vs time no predation')\n",
    "plt.legend()"
   ]
  },
  {
   "cell_type": "code",
   "execution_count": 19,
   "metadata": {
    "collapsed": false
   },
   "outputs": [],
   "source": [
    "# initialize data\n",
    "n_0 = 2\n",
    "K = 60000\n",
    "k=.5\n",
    "total_time = 40\n",
    "dt = 1\n",
    "\n",
    "time_range = np.arange(0, total_time, dt)\n",
    "\n",
    "n_t = np.zeros(len(time_range))\n",
    "\n",
    "n_t[0]=n_0\n",
    "\n"
   ]
  },
  {
   "cell_type": "code",
   "execution_count": 20,
   "metadata": {
    "collapsed": false
   },
   "outputs": [],
   "source": [
    "# calculate values\n",
    "for i in range(len(time_range) - 1):\n",
    "    dN = k * n_t[i] * (1-n_t[i]/K)* dt\n",
    "    n_t[i + 1] = n_t[i] + dN"
   ]
  },
  {
   "cell_type": "code",
   "execution_count": 21,
   "metadata": {
    "collapsed": false
   },
   "outputs": [
    {
     "data": {
      "text/plain": [
       "<matplotlib.legend.Legend at 0x119dcfc50>"
      ]
     },
     "execution_count": 21,
     "metadata": {},
     "output_type": "execute_result"
    },
    {
     "data": {
      "image/png": "[encoded data removed]",
      "text/plain": [
       "<matplotlib.figure.Figure at 0x119dcf898>"
      ]
     },
     "metadata": {},
     "output_type": "display_data"
    }
   ],
   "source": [
    "# plot details\n",
    "plt.plot(time_range, n_t, '-', label='otters')\n",
    "plt.xlabel('time (years)')\n",
    "plt.ylabel('otters remaining')\n",
    "plt.title('otters vs time logistic growth')\n",
    "plt.legend()"
   ]
  },
  {
   "cell_type": "code",
   "execution_count": 23,
   "metadata": {
    "collapsed": false
   },
   "outputs": [],
   "source": [
    "#initialize data\n",
    "n_0 = 60000\n",
    "K = 60000\n",
    "k=.5\n",
    "total_time = 40\n",
    "dt = .1\n",
    "\n",
    "time_range = np.arange(0, total_time, dt)\n",
    "\n",
    "n_t = np.zeros(len(time_range))\n",
    "\n",
    "n_t[0]=n_0\n",
    "\n",
    "\n",
    "otters_peryear = 400\n",
    "\n",
    "\n",
    "n2_t = np.zeros(len(time_range))\n",
    "\n",
    "n2_t[0]=n_0"
   ]
  },
  {
   "cell_type": "code",
   "execution_count": 24,
   "metadata": {
    "collapsed": false
   },
   "outputs": [],
   "source": [
    "# calculate values\n",
    "for i in range(len(time_range) - 1):\n",
    "    # for 5 whales\n",
    "    dN = k * n_t[i] * (1-n_t[i]/K)* dt\n",
    "    n_t[i + 1] = n_t[i] + dN - (5 * otters_peryear * dt)\n",
    "    # for 10 whales\n",
    "    dN2 = k * n2_t[i] * (1-n2_t[i]/K)* dt\n",
    "    n2_t[i + 1] = n2_t[i] + dN2 - (10 * otters_peryear * dt)"
   ]
  },
  {
   "cell_type": "code",
   "execution_count": 25,
   "metadata": {
    "collapsed": false
   },
   "outputs": [
    {
     "data": {
      "text/plain": [
       "<matplotlib.legend.Legend at 0x11a3af518>"
      ]
     },
     "execution_count": 25,
     "metadata": {},
     "output_type": "execute_result"
    },
    {
     "data": {
      "image/png": "[encoded data removed]",
      "text/plain": [
       "<matplotlib.figure.Figure at 0x11a4130b8>"
      ]
     },
     "metadata": {},
     "output_type": "display_data"
    }
   ],
   "source": [
    "# plot details\n",
    "plt.plot(time_range, n_t, '-', label='5 whales')\n",
    "plt.plot(time_range, n2_t, '-', label='10 whales')\n",
    "plt.xlabel('time (years)')\n",
    "plt.ylabel('otters')\n",
    "plt.title('otters vs time with otter eating killer whales')\n",
    "plt.legend()"
   ]
  },
  {
   "cell_type": "code",
   "execution_count": null,
   "metadata": {
    "collapsed": true
   },
   "outputs": [],
   "source": []
  },
  {
   "cell_type": "code",
   "execution_count": null,
   "metadata": {
    "collapsed": true
   },
   "outputs": [],
   "source": []
  }
 ],
 "metadata": {
  "kernelspec": {
   "display_name": "Python 3",
   "language": "python",
   "name": "python3"
  },
  "language_info": {
   "codemirror_mode": {
    "name": "ipython",
    "version": 3
   },
   "file_extension": ".py",
   "mimetype": "text/x-python",
   "name": "python",
   "nbconvert_exporter": "python",
   "pygments_lexer": "ipython3",
   "version": "3.6.0"
  }
 },
 "nbformat": 4,
 "nbformat_minor": 2
}

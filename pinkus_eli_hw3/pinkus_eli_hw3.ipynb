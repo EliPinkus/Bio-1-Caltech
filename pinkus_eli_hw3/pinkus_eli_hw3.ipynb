{
 "cells": [
  {
   "cell_type": "markdown",
   "metadata": {},
   "source": [
    "1a)\n",
    "\n",
    "$N_k(t+\\Delta t)=N_k(t)-(\\lambda \\Delta t)N_k(t)$\n",
    "\n",
    "$N_k(t+\\Delta t)-N_k(t)=-(\\lambda \\Delta t)N_k(t)$\n",
    "\n",
    "We recognize the left hand side to be $\\Delta N_K$ so we divide by $\\Delta t$:\n",
    "\n",
    "$$\\frac{\\Delta N_K}{\\Delta t}=-\\lambda N_K=\\frac{dN_K}{dt}=-\\frac{dN_{Ar}}{dt}$$"
   ]
  },
  {
   "cell_type": "markdown",
   "metadata": {},
   "source": [
    "1b)\n",
    "\n",
    "$$\\frac{dN_K}{dt}=-\\lambda N_K\\Rightarrow dN_K=-\\lambda N_K dt\\Rightarrow\\int_{N_0}^{N_f}\\frac{dN_K}{N_K}=\\int_0^t -\\lambda dt $$\n",
    "\n",
    "$$\\ln\\left(\\frac{N_f}{N_0}\\right)=-\\lambda t\\Rightarrow N_K(t)=N_{K_0} e^{-\\lambda t}$$\n",
    "\n"
   ]
  },
  {
   "cell_type": "markdown",
   "metadata": {},
   "source": [
    "1c)\n",
    "\n",
    "$$t=-\\frac{1}{\\lambda}\\ln \\left(\\frac{N_K (t)}{N_K (0)}\\right)$$\n",
    "\n",
    "$$\\frac{N_K(t)}{N_K(0)}=\\frac{1}{1+N_A(t)/N_K(t)}$$\n",
    "\n",
    "$$t=-\\frac{1}{\\lambda}\\ln \\left(\\frac{1}{1+N_A(t)/N_K(t)}\\right)$$"
   ]
  },
  {
   "cell_type": "markdown",
   "metadata": {},
   "source": [
    "1d)\n",
    "\n",
    "We have three samples:\n",
    "\n",
    "Sample 1:\n",
    "\n",
    "$2.91 \\times 10^{-12}mol Ar/g$\n",
    "\n",
    "$0.00657 g K_2O\\times\\frac{1 mol}{94.2 g/mol}\\times \\frac{2 mol K}{1 mol K_2O}\\times\\frac{1.2\\times10^{-4} mol ^{40}K}{mol K}=1.67\\times10^{-8}mol^{40}K$\n",
    "\n",
    "$$t=-\\frac{1}{5.8\\times 10^{-11}}\\ln \\left(\\frac{1}{1+2.91\\times 10^{-12}/1.67\\times10^{-8}}\\right)\\approx3.00\\times10^6years$$\n",
    "\n",
    "Sample 2:\n",
    "\n",
    "$3.18 \\times 10^{-12}mol/g$\n",
    "\n",
    "$0.00755 g K_2O\\times\\frac{1 mol}{94.2 g/mol}\\times \\frac{2 mol K}{1 mol K_2O}\\times\\frac{1.2\\times10^{-4} mol ^{40}K}{mol K}=1.92\\times10^{-8}mol^{40}K$\n",
    "\n",
    "$$t=-\\frac{1}{5.8\\times 10^{-11}}\\ln \\left(\\frac{1}{1+3.18\\times 10^{-12}/1.92\\times10^{-8}}\\right)\\approx 2.86\\times10^6 years$$\n",
    "\n",
    "$3.08 \\times 10^{-12}mol/g$\n",
    "\n",
    "$0.00680 g K_2O\\times\\frac{1 mol}{94.2 g/mol}\\times \\frac{2 mol K}{1 mol K_2O}\\times\\frac{1.2\\times10^{-4} mol ^{40}K}{mol K}=1.73\\times10^{-8}mol^{40}K$\n",
    "\n",
    "$$t=-\\frac{1}{5.8\\times 10^{-11}}\\ln \\left(\\frac{1}{1+3.08\\times 10^{-12}/1.73\\times10^{-8}}\\right)\\approx 3.07\\times10^6 years$$\n",
    "\n",
    "Average:\n",
    "\n",
    "$$=\\frac{3.00\\times10^6+2.86\\times10^6+3.07\\times10^6}{3}\\approx2.98\\times10^6 years$$"
   ]
  },
  {
   "cell_type": "markdown",
   "metadata": {
    "collapsed": true
   },
   "source": [
    "2a)\n",
    "\n",
    "$$3\\times 10^9 basepairs\\times\\frac{1 error}{10^{10}basepairs\\cdot replication}=0.3 errors/replication$$"
   ]
  },
  {
   "cell_type": "markdown",
   "metadata": {},
   "source": [
    "2b)\n",
    "\n",
    "$$23 genome duplications\\times\\frac{0.3 errors}{genome replication}=7 mutations$$"
   ]
  },
  {
   "cell_type": "markdown",
   "metadata": {},
   "source": [
    "2c)\n",
    "\n",
    "15 years = 5500 days\n",
    "\n",
    "$$35 replications + \\frac{1 replications}{16 days}\\times 5500 days=380 replications$$\n",
    "\n",
    "2de)\n",
    "\n",
    "$$379 replications\\times\\frac{0.3 errors}{genome replication}=114 mutations$$\n",
    "\n",
    "mom + dad =$6.9 mutations + 114 mutations\\approx 120$ mutations of which $\\frac{114}{114+6.9}\\times 100=94\\%$ from the father"
   ]
  },
  {
   "cell_type": "code",
   "execution_count": 4,
   "metadata": {
    "collapsed": false
   },
   "outputs": [
    {
     "data": {
      "image/png": "[encoded data removed]",
      "text/plain": [
       "<matplotlib.figure.Figure at 0x115ae1588>"
      ]
     },
     "metadata": {},
     "output_type": "display_data"
    }
   ],
   "source": [
    "import numpy as np\n",
    "import matplotlib.pyplot as plt\n",
    "\n",
    "# define function\n",
    "x0 = np.linspace(15,100,100)\n",
    "x1 = np.linspace(0,100,100)\n",
    "ym = 35 + (x0-15) / 16 * 365\n",
    "yf = 6.9 + x1*0\n",
    "\n",
    "\n",
    "plt.xlabel('years')\n",
    "plt.ylabel('mutations')\n",
    "plt.title('mutations vs. age')\n",
    "\n",
    "# plot graph\n",
    "plt.plot(x0,ym, label=\"male\")\n",
    "plt.plot(x1,yf, label=\"female\")\n",
    "plt.legend()\n",
    "plt.show()"
   ]
  },
  {
   "cell_type": "markdown",
   "metadata": {},
   "source": [
    "3a)\n",
    "great-great grandma $\\Rightarrow$ great grandma $\\Rightarrow$ grandma $\\Rightarrow$ mom $\\Rightarrow$ child\n",
    "\n",
    "4 generations.\n",
    "\n",
    "We have ~114 mutations per generation from q2:\n",
    "\n",
    "$4 generations \\times\\frac{114 mutations}{1 generation}=460 mutations$"
   ]
  },
  {
   "cell_type": "markdown",
   "metadata": {},
   "source": [
    "3b)\n",
    "\n",
    "We have established that a generation is ~30 years.\n",
    "\n",
    "Lucy is $~3\\times10^6$ years old = 100,000 generations.\n",
    "\n",
    "$100000 generations\\times\\frac{100 mutations}{1 generation}=10,000,000 mutations$"
   ]
  },
  {
   "cell_type": "markdown",
   "metadata": {},
   "source": [
    "3c)\n",
    "\n",
    "We examine a fraction of the overal genome.\n",
    "\n",
    "Great-great granddaughter:\n",
    "\n",
    "\n",
    "$\\frac{5000}{3\\times10^9}\\times 400 mutations=0.00067mutations\\approx 0$ in 5000 bp examined\n",
    "\n",
    "Lucy:\n",
    "\n",
    "$\\frac{5000}{3\\times10^9}\\times 10,000,000 mutations=17 mutations$ in 5000 bp examined\n",
    "\n",
    "This method would only reliably show mutations (and relevent data) on  large timescales because the rate of errors for only 5000 base pairs is extremely low and would not reveal noticable data on shorter timescales."
   ]
  },
  {
   "cell_type": "markdown",
   "metadata": {},
   "source": [
    "4a)\n",
    "\n",
    "$17000bp\\times\\frac{3\\times10^{-5}mutations}{bp\\cdot generation}=0.51$ mutations per generation"
   ]
  },
  {
   "cell_type": "markdown",
   "metadata": {},
   "source": [
    "4b)\n",
    "great grandaughter\n",
    "\n",
    "$0.51$ mutations/generation$\\times 4 generations = 2.04$ mutations\n",
    "\n",
    "4c)\n",
    "Lucy\n",
    "\n",
    "$0.51$ mutations/generation$\\times 100,000 generations = 51,000 mutations$\n",
    "\n",
    "Too many mutations reduces the resolution of the data by giving mitochondrial DNA with an excess of mutations to the point where it can be difficult to draw meaningful relationships between samples of large time gaps. Also with that many mutations the same bp mutates more than once making it impossible to track."
   ]
  },
  {
   "cell_type": "code",
   "execution_count": null,
   "metadata": {
    "collapsed": true
   },
   "outputs": [],
   "source": []
  }
 ],
 "metadata": {
  "kernelspec": {
   "display_name": "Python 3",
   "language": "python",
   "name": "python3"
  },
  "language_info": {
   "codemirror_mode": {
    "name": "ipython",
    "version": 3
   },
   "file_extension": ".py",
   "mimetype": "text/x-python",
   "name": "python",
   "nbconvert_exporter": "python",
   "pygments_lexer": "ipython3",
   "version": "3.6.0"
  }
 },
 "nbformat": 4,
 "nbformat_minor": 2
}

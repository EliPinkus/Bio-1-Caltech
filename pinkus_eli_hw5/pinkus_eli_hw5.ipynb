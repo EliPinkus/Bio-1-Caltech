{
 "cells": [
  {
   "cell_type": "markdown",
   "metadata": {
    "collapsed": true
   },
   "source": [
    "1a)\n",
    "\n",
    "We make an estimate for the desired value by estimating the area under the relevent curve:\n",
    "\n",
    "\n",
    "\n",
    "We street fight various shapes:\n",
    "\n",
    "For UV light we see a street fighter triange triangle between 270nm and 375nm with a max height of 0.95.\n",
    "\n",
    "Thus we street fight the area:\n",
    "\n",
    "$$.5*(375-270)*0.95=50W/m^2$$\n",
    "\n",
    "For visible light\n",
    "\n",
    "We observe an approximate street fighter style rectange that ranges approximately the entire visible light spectrum 400nm-700nm. This rectangle has a hight of approximately 1.3 W/m^2/nm so we have in the visible spectrum:\n",
    "\n",
    "$$(700-400)\\times 1.3=390W/m^2\\approx 400W/m^2$$\n",
    "\n",
    "For infared light:\n",
    "\n",
    "We observe an approximate right triangle in the range 700nm-1300nm of heigh approximately 1:\n",
    "\n",
    "$$.5*(1300-700)*1=300W/m^2$$\n",
    "\n",
    "We also observe an approximate rectangle between 1500nm-1750nm with a height of about .25:\n",
    "\n",
    "$$250*.25=62.5W/m^2$$\n",
    "\n",
    "We observe another street fighter rectangle between around 2000nm-2500nm of heigh around .1:\n",
    "\n",
    "$$500*.1=50W/m^2$$\n",
    "\n",
    "Summing the three gives:\n",
    "\n",
    "$412.5\\approx400W/m^2$ infared\n",
    "\n",
    "\n",
    "\n",
    "Summing all three ranges:\n",
    "$50+400+400=850W/m^2$"
   ]
  },
  {
   "cell_type": "markdown",
   "metadata": {},
   "source": [
    "1b)\n",
    "\n",
    "We know that the average household uses around $10^4$ kWh per year:\n",
    "\n",
    "$$10^4kW\\cdot h\\times\\frac{1year}{365days}\\times\\frac{1day}{24h}\\times\\frac{1000W}{1kW}\\times\\frac{1m^2}{850W}=1.3m^2$$\n",
    "\n",
    "\n",
    "We know it must be much larger because we know that solar panels are not 100% efficient. Additionally, we have assumed that there is sunlight 24/7 where we know that there is some fraction of any given day were there is no sunlight."
   ]
  },
  {
   "cell_type": "markdown",
   "metadata": {},
   "source": [
    "1c)\n",
    "\n",
    "We get a street fighter 'typical' wavelength by taking an approximate average between the two large absorption peaks for chlorophyll a so we say 500nm.\n",
    "\n",
    "So we look to find the energy of the photon using the given equation:\n",
    "\n",
    "$$E=\\frac{hc}{\\lambda}=6.626\\times10^{-34}\\cdot 3.0\\times10^8/500\\times10^{-9}=3.98\\times10^{-19}J\\approx4\\times10^{-19}$$\n",
    "\n",
    "So we can solve for number of photons per second by seting equal to the result from 1a):\n",
    "\n",
    "$$\\frac{4\\times10^{-19}J\\cdot N}{(1\\times10^{-9}/2)^2\\cdot\\pi}=850\\Rightarrow N = 1669photons\\approx 1700 photons$$\n"
   ]
  },
  {
   "cell_type": "markdown",
   "metadata": {},
   "source": [
    "1d)\n",
    "\n",
    "We have 1% of photons get absorbed so we have:\n",
    "\n",
    "$1700/100=17\\approx20photons absorbed$"
   ]
  },
  {
   "cell_type": "markdown",
   "metadata": {},
   "source": [
    "1e)\n",
    "\n",
    "We have a wavelength of 680nm\n",
    "\n",
    "we have:\n",
    "\n",
    "$$E=\\frac{hc}{\\lambda}=6.626\\times10^{-34}\\cdot 3.0\\times10^8/680\\times10^{-9}\\times10^{-19}\\times {15photons absorbed \\over 1sec}\\times {1kbT \\over 4.11\\times10^{-21}J}\\approx1000 kbT$$"
   ]
  },
  {
   "cell_type": "markdown",
   "metadata": {},
   "source": [
    "1f)\n",
    "\n",
    "$125kbT\\times{4.11\\times10^{-21}J \\over 1kbT}\\times {1photon \\over 3\\times10^{-19}}\\approx 2 photons$ needed to split water\n",
    "\n",
    "\n",
    "$20kbT\\times{4.11\\times10^{-21} J\\over 1kbT}\\times {1 photon\\over 3\\times1-^{-19}}\\approx 0.3 photons$ needed for ATP hydrolysis\n",
    "\n",
    "${16\\times10^3J\\over1 g gluc}\\times {180 g gluc\\over1  mol gluc}\\times {1mol gluc\\over 6.02\\times10^{23} molecules}\\times{1 photon\\over 3\\times 10^{-19}J}\\approx 16$ photons worth of energy in 1 glucose"
   ]
  },
  {
   "cell_type": "markdown",
   "metadata": {
    "collapsed": true
   },
   "source": [
    "2a)\n",
    "\n",
    "\n",
    "$0.100J/C\\times1.6\\times10^{-19}C\\times{1 kbT\\over 4.11\\times10^{-21}}=3.89kbT$"
   ]
  },
  {
   "cell_type": "markdown",
   "metadata": {},
   "source": [
    "2b)\n",
    "\n",
    "$\\Delta G_{chem}=\\Delta G_{in}+\\Delta G_{out}$\n",
    "\n",
    "$\\Delta G_{chem}=-T \\Delta S_{in}=-T(S_{in_f}+S_{in_i})$\n",
    "\n",
    "$\\Delta G_{out}=-T\\cdot \\Delta S_{out}=-T(S_{out_f}+S_{out_i})$\n",
    "\n",
    "So we have that:\n",
    "\n",
    "$\\Delta G_{chem}=-T\\cdot \\Delta S_{in} - T\\cdot \\Delta S_{out}$"
   ]
  },
  {
   "cell_type": "markdown",
   "metadata": {},
   "source": []
  },
  {
   "cell_type": "markdown",
   "metadata": {},
   "source": [
    "2c)\n",
    "\n",
    "We are choosing N spots from $\\Omega$ spots\n",
    "\n",
    "So we have $\\Omega$ choos N:\n",
    "\n",
    "$${\\Omega! \\over N!\\cdot (\\Omega-N)!}$$\n",
    "\n",
    "So if we note that $\\Omega>>N$, thus placing a proton into a lattice position has a negligable impact on the total number of spots remaining so we write the $(\\Omega-N)!$ as $\\Omega^N$ and we can get the final result:\n",
    "\n",
    "$$W(N,\\Omega)={\\Omega^N\\over N!}$$\n",
    "\n",
    "This makes sense intuitively because every additional proton creates more avalaible microstates on the order of $\\Omega$ spaces. Thus we multiply $\\Omega$ by itself N times as given by the equation while dividing each step by the number of protons related to that addition, giving us the N! term"
   ]
  },
  {
   "cell_type": "markdown",
   "metadata": {},
   "source": [
    "2d)\n",
    "\n",
    "$\\Delta S_{out}=S_{out_f}-S_{out_i}=k_b\\cdot\\ln(W_{f})-k_b\\cdot\\ln(W_i)=k_b\\cdot\\ln\\left({W_f\\over W_i}\\right)$\n",
    "\n",
    "$W_f={\\Omega^{N-1}\\over (N-1)!}$\n",
    "\n",
    "$W_i={\\Omega^{N}\\over (N)!}$\n",
    "\n",
    "$\\Delta S_{out}=k_b\\cdot\\ln\\left({{\\Omega^{N-1}\\over (N-1)!}\\over {\\Omega^{N}\\over (N)!}}\\right)=k_b\\ln\\left({N\\over\\Omega}\\right)=kb\\ln\\left(c_{out}\\right)$\n",
    "\n",
    "\n",
    "\n",
    "$\\Delta S_{in}=S_{in_f}-S_{in_i}=kB\\cdot\\ln(W_{f})-kB\\cdot\\ln(W_i)=k_b\\cdot\\ln\\left({W_f\\over W_i}\\right)$\n",
    "\n",
    "$w_f={\\Omega^{M+1}\\over (M+1)!}$\n",
    "\n",
    "$w_i= {\\Omega^{M}\\over M!}$\n",
    "\n",
    "$S_{in}=k_b\\ln\\left({{\\Omega^{M+1}\\over (M+1)!}\\over {\\Omega^{M}\\over M!}}\\right)=k_b\\ln\\left({\\Omega\\over(M+1)}\\right)\\approx k_b\\ln\\left(1/c_{in}\\right)$"
   ]
  },
  {
   "cell_type": "markdown",
   "metadata": {},
   "source": [
    "2e)\n",
    "\n",
    "\n",
    "$\\Delta G_{chem}=-T\\cdot \\Delta S_{in} - T\\cdot \\Delta S_{out}=T\\cdot kb\\ln\\left(C_{in}/C_{out}\\right)$\n",
    "\n"
   ]
  },
  {
   "cell_type": "markdown",
   "metadata": {},
   "source": [
    "2f)\n",
    "\n",
    "$c_{out}=10^{-pH_{out}}$\n",
    "\n",
    "$c_{in}=10^{-pH_{in}}$\n",
    "\n",
    "$\\Delta G_{chem}=Tk_b\\cdot\\ln\\left(10^{pH_{in}-pH_{out}}\\right)$\n",
    "\n",
    "$\\Delta G_{chem}=Tk_b\\cdot\\ln\\left(10^{\\Delta pH}\\right)$\n",
    "\n",
    "$\\Delta G_{chem}=Tk_b\\cdot\\ln\\left(10^{\\Delta pH}\\right)+q\\Delta V$"
   ]
  },
  {
   "cell_type": "markdown",
   "metadata": {
    "collapsed": true
   },
   "source": [
    "2g)\n",
    "\n",
    "if $\\Delta pH=1$:\n",
    "\n",
    "$\\Delta G_{chem}=Tk_b\\cdot\\ln\\left(10\\right)+q\\Delta V=Tk_b\\ln(10)+3.89k_bT=6.2k_bT$"
   ]
  },
  {
   "cell_type": "markdown",
   "metadata": {},
   "source": [
    "3a\n",
    "\n",
    "$120degrees={2\\pi\\over3} radians$\n",
    "\n",
    "$E=\\tau\\theta$\n",
    "\n",
    "$20k_bT={\\tau\\cdot2\\pi\\over 3}\\Rightarrow \\tau=9.55kbT/rad$"
   ]
  },
  {
   "cell_type": "markdown",
   "metadata": {},
   "source": [
    "3b)\n",
    "\n",
    "$\\Delta G = E_{rot}$\n",
    "\n",
    "$\\theta=\\pi/6$\n",
    "\n",
    "$Tk_b\\ln\\left(10^{\\Delta pH}\\right) +q\\Delta V=\\tau\\theta$\n",
    "\n",
    "$\\tau={{Tk_b\\ln(10^{\\Delta pH})+ 3.89k_bT}\\over \\pi/6}$\n"
   ]
  },
  {
   "cell_type": "markdown",
   "metadata": {},
   "source": [
    "3c)\n",
    "\n",
    "$${9.55 k_bT\\over rad} = {{k_bT\\ln(10^{\\Delta pH})+3.89k_bT}\\over{\\pi/6}}\\Rightarrow \\Delta pH =0.482$$"
   ]
  },
  {
   "cell_type": "markdown",
   "metadata": {
    "collapsed": true
   },
   "source": [
    "3d)\n",
    "\n",
    "From one proton we get $6.2k_bT$.\n",
    "\n",
    "ATP requires $~20k_bT$\n",
    "\n",
    "$20/6.2\\approx3$ protons"
   ]
  },
  {
   "cell_type": "markdown",
   "metadata": {},
   "source": [
    "3e)\n",
    "\n",
    "Purple Guys:\n",
    "\n",
    "\n",
    "$\\lambda=960nm$\n",
    "\n",
    "$E=hc/\\lambda=6.626\\times10^{-34}\\cdot3\\times10^8/960\\times10^{-9}\\times10^{-19}J\\times\\frac{1k_bT}{4.11\\times10^{-21}}=50.38$\n",
    "\n",
    "$\\lambda=680nm$\n",
    "\n",
    "$E=hc/\\lambda=6.626\\times10^{-34}\\cdot3\\times10^8/680\\times10^{-9}\\times10^{-19}J\\times\\frac{1k_bT}{4.11\\times10^{-21}}=71.1k_bT$"
   ]
  },
  {
   "cell_type": "markdown",
   "metadata": {},
   "source": [
    "3f\n",
    "\n",
    "The purple system can pump one proton in far less time indicating that it is more efficient.\n",
    "\n",
    "%diff = ${(50.38-71.1)\\over71.1} x 100 = 29.2 \\%$"
   ]
  },
  {
   "cell_type": "code",
   "execution_count": null,
   "metadata": {
    "collapsed": true
   },
   "outputs": [],
   "source": []
  }
 ],
 "metadata": {
  "kernelspec": {
   "display_name": "Python 3",
   "language": "python",
   "name": "python3"
  },
  "language_info": {
   "codemirror_mode": {
    "name": "ipython",
    "version": 3
   },
   "file_extension": ".py",
   "mimetype": "text/x-python",
   "name": "python",
   "nbconvert_exporter": "python",
   "pygments_lexer": "ipython3",
   "version": "3.6.0"
  }
 },
 "nbformat": 4,
 "nbformat_minor": 2
}
